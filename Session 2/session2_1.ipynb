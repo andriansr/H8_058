{
 "cells": [
  {
   "cell_type": "code",
   "execution_count": 6,
   "id": "ad6537d8",
   "metadata": {},
   "outputs": [
    {
     "name": "stdout",
     "output_type": "stream",
     "text": [
      "true\n"
     ]
    }
   ],
   "source": [
    "a = 0\n",
    "b = 5\n",
    "\n",
    "if a > b :\n",
    "    print (\"false\")\n",
    "    \n",
    "elif a < b :\n",
    "    print (\"true\")\n",
    "    \n",
    "elif a <= b :\n",
    "    print (\"true\")\n",
    "    \n",
    "elif a >= b :\n",
    "    print (\"false\")\n",
    "    \n",
    "elif a == b :\n",
    "    print (\"false\")\n",
    "    \n",
    "elif a != b :\n",
    "    print (\"true\")\n",
    "    "
   ]
  },
  {
   "cell_type": "code",
   "execution_count": null,
   "id": "8f680a1a",
   "metadata": {},
   "outputs": [],
   "source": []
  },
  {
   "cell_type": "code",
   "execution_count": null,
   "id": "3a223dc2",
   "metadata": {},
   "outputs": [],
   "source": []
  },
  {
   "cell_type": "code",
   "execution_count": null,
   "id": "ec440410",
   "metadata": {},
   "outputs": [],
   "source": []
  }
 ],
 "metadata": {
  "kernelspec": {
   "display_name": "Python 3",
   "language": "python",
   "name": "python3"
  },
  "language_info": {
   "codemirror_mode": {
    "name": "ipython",
    "version": 3
   },
   "file_extension": ".py",
   "mimetype": "text/x-python",
   "name": "python",
   "nbconvert_exporter": "python",
   "pygments_lexer": "ipython3",
   "version": "3.8.8"
  }
 },
 "nbformat": 4,
 "nbformat_minor": 5
}

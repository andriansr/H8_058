{
 "cells": [
  {
   "cell_type": "code",
   "execution_count": 9,
   "id": "40370d7c",
   "metadata": {},
   "outputs": [
    {
     "name": "stdout",
     "output_type": "stream",
     "text": [
      "masukkan angka : 1\n",
      "ganjil\n"
     ]
    }
   ],
   "source": [
    "angka = int(input(\"masukkan angka : \"))\n",
    "\n",
    "if (angka % 2 == 0) : \n",
    "    print (\"genap\")\n",
    "else :\n",
    "    print (\"ganjil\")"
   ]
  },
  {
   "cell_type": "code",
   "execution_count": 25,
   "id": "f514b16e",
   "metadata": {},
   "outputs": [
    {
     "name": "stdout",
     "output_type": "stream",
     "text": [
      "masukkan angka : 50\n",
      "1\n",
      "2\n",
      "5\n",
      "10\n",
      "25\n"
     ]
    }
   ],
   "source": [
    "a = float(input(\"masukkan angka : \"))\n",
    "\n",
    "b = 1\n",
    "\n",
    "while b < a : \n",
    "    if (a % b == 0) :\n",
    "        print (b)\n",
    "    b = b+1"
   ]
  },
  {
   "cell_type": "code",
   "execution_count": 26,
   "id": "ff6e674c",
   "metadata": {},
   "outputs": [
    {
     "name": "stdout",
     "output_type": "stream",
     "text": [
      "masukkan nilai: 90\n",
      "A\n"
     ]
    }
   ],
   "source": [
    "def hitung_nilai(nilai):\n",
    "    if nilai >= 85:\n",
    "        print(\"A\")\n",
    "    elif nilai >= 80:\n",
    "        print(\"A-\")\n",
    "    elif nilai >= 75:\n",
    "        print(\"B+\")\n",
    "    elif nilai >= 70:\n",
    "        print(\"B\")\n",
    "    elif nilai >= 65:\n",
    "        print(\"B-\")\n",
    "    elif nilai >= 60:\n",
    "        print(\"C+\")\n",
    "    elif nilai >= 55:\n",
    "        print(\"C\")\n",
    "    elif nilai < 55:\n",
    "        print(\"D\")\n",
    "\n",
    "nilai = int(input(\"masukkan nilai: \"))\n",
    "hitung_nilai(nilai)"
   ]
  },
  {
   "cell_type": "code",
   "execution_count": 59,
   "id": "30074a14",
   "metadata": {},
   "outputs": [
    {
     "name": "stdout",
     "output_type": "stream",
     "text": [
      "masukkan angka 1-9:3\n",
      "too low\n"
     ]
    }
   ],
   "source": [
    "import random\n",
    "\n",
    "a = int(random.randrange(1,9))\n",
    "b = int(input(\"masukkan angka 1-9:\" ))\n",
    "\n",
    "if b <= a:\n",
    "    print (\"too low\")\n",
    "elif b >= a:\n",
    "    print (\"too high\")\n",
    "elif b == a:\n",
    "    print (\"you got it!\")"
   ]
  },
  {
   "cell_type": "code",
   "execution_count": 1,
   "id": "7dc5585c",
   "metadata": {},
   "outputs": [
    {
     "name": "stdout",
     "output_type": "stream",
     "text": [
      "3\n",
      "6\n",
      "333333\n"
     ]
    }
   ],
   "source": [
    "x = input()\n",
    "y = int(input())\n",
    "\n",
    "print (x * y)"
   ]
  },
  {
   "cell_type": "code",
   "execution_count": 2,
   "id": "4d6e7b59",
   "metadata": {},
   "outputs": [
    {
     "name": "stdout",
     "output_type": "stream",
     "text": [
      "17.5\n"
     ]
    }
   ],
   "source": [
    "x = 1 / 2 + 3 // 3 + 4 ** 2\n",
    "print (x)"
   ]
  },
  {
   "cell_type": "markdown",
   "id": "a36ff71d",
   "metadata": {},
   "source": []
  },
  {
   "cell_type": "code",
   "execution_count": 3,
   "id": "b5a93d57",
   "metadata": {},
   "outputs": [
    {
     "name": "stdout",
     "output_type": "stream",
     "text": [
      "1.0\n"
     ]
    }
   ],
   "source": [
    "print (1 / 1)"
   ]
  },
  {
   "cell_type": "code",
   "execution_count": 5,
   "id": "4ce218bb",
   "metadata": {},
   "outputs": [
    {
     "ename": "SyntaxError",
     "evalue": "invalid octal literal (<ipython-input-5-12f25cd06f81>, line 1)",
     "output_type": "error",
     "traceback": [
      "\u001b[1;36m  File \u001b[1;32m\"<ipython-input-5-12f25cd06f81>\"\u001b[1;36m, line \u001b[1;32m1\u001b[0m\n\u001b[1;33m    x = 0o\u001b[0m\n\u001b[1;37m         ^\u001b[0m\n\u001b[1;31mSyntaxError\u001b[0m\u001b[1;31m:\u001b[0m invalid octal literal\n"
     ]
    }
   ],
   "source": [
    "x = 0o\n",
    "print (float(x))"
   ]
  },
  {
   "cell_type": "code",
   "execution_count": 7,
   "id": "0688def0",
   "metadata": {},
   "outputs": [
    {
     "name": "stdout",
     "output_type": "stream",
     "text": [
      "2\n",
      "4\n",
      "6\n"
     ]
    }
   ],
   "source": [
    "x = int(input())\n",
    "y = int(input())\n",
    "\n",
    "print ( x + y )"
   ]
  },
  {
   "cell_type": "code",
   "execution_count": 15,
   "id": "589fc114",
   "metadata": {},
   "outputs": [
    {
     "name": "stdout",
     "output_type": "stream",
     "text": [
      "Andrian Siasa Rifqi \n",
      "\n"
     ]
    }
   ],
   "source": [
    "s = \"Andrian\"\n",
    "print (s , \"Siasa Rifqi \\n\")"
   ]
  },
  {
   "cell_type": "code",
   "execution_count": 16,
   "id": "79de2302",
   "metadata": {},
   "outputs": [
    {
     "name": "stdout",
     "output_type": "stream",
     "text": [
      "2\n",
      "4\n",
      "8.0\n"
     ]
    }
   ],
   "source": [
    "x = int(input())\n",
    "y = int(input())\n",
    "\n",
    "x = x / y\n",
    "y = y / x\n",
    "\n",
    "print (y)"
   ]
  },
  {
   "cell_type": "code",
   "execution_count": 17,
   "id": "1f3e650f",
   "metadata": {},
   "outputs": [
    {
     "name": "stdout",
     "output_type": "stream",
     "text": [
      "11\n",
      "4\n",
      "1\n"
     ]
    }
   ],
   "source": [
    "x = int(input())\n",
    "y = int(input())\n",
    "\n",
    "x = x % y\n",
    "x = x % y\n",
    "y = y % x\n",
    "\n",
    "print (y)"
   ]
  },
  {
   "cell_type": "code",
   "execution_count": 18,
   "id": "46cbd2d8",
   "metadata": {},
   "outputs": [
    {
     "name": "stdout",
     "output_type": "stream",
     "text": [
      "2 1\n"
     ]
    }
   ],
   "source": [
    "x = 1\n",
    "y = 2\n",
    "z = x\n",
    "x = y\n",
    "y = z\n",
    "\n",
    "print (x,y)"
   ]
  },
  {
   "cell_type": "code",
   "execution_count": 19,
   "id": "98eb1339",
   "metadata": {},
   "outputs": [
    {
     "name": "stdout",
     "output_type": "stream",
     "text": [
      "2\n",
      "4\n"
     ]
    },
    {
     "ename": "ZeroDivisionError",
     "evalue": "integer division or modulo by zero",
     "output_type": "error",
     "traceback": [
      "\u001b[1;31m---------------------------------------------------------------------------\u001b[0m",
      "\u001b[1;31mZeroDivisionError\u001b[0m                         Traceback (most recent call last)",
      "\u001b[1;32m<ipython-input-19-28c5009ea68c>\u001b[0m in \u001b[0;36m<module>\u001b[1;34m\u001b[0m\n\u001b[0;32m      3\u001b[0m \u001b[1;33m\u001b[0m\u001b[0m\n\u001b[0;32m      4\u001b[0m \u001b[0mx\u001b[0m \u001b[1;33m=\u001b[0m \u001b[0mx\u001b[0m \u001b[1;33m//\u001b[0m \u001b[0my\u001b[0m\u001b[1;33m\u001b[0m\u001b[1;33m\u001b[0m\u001b[0m\n\u001b[1;32m----> 5\u001b[1;33m \u001b[0my\u001b[0m \u001b[1;33m=\u001b[0m \u001b[0my\u001b[0m \u001b[1;33m//\u001b[0m \u001b[0mx\u001b[0m\u001b[1;33m\u001b[0m\u001b[1;33m\u001b[0m\u001b[0m\n\u001b[0m\u001b[0;32m      6\u001b[0m \u001b[1;33m\u001b[0m\u001b[0m\n\u001b[0;32m      7\u001b[0m \u001b[0mprint\u001b[0m \u001b[1;33m(\u001b[0m\u001b[0my\u001b[0m\u001b[1;33m)\u001b[0m\u001b[1;33m\u001b[0m\u001b[1;33m\u001b[0m\u001b[0m\n",
      "\u001b[1;31mZeroDivisionError\u001b[0m: integer division or modulo by zero"
     ]
    }
   ],
   "source": [
    "x = int(input())\n",
    "y = int(input())\n",
    "\n",
    "x = x // y\n",
    "y = y // x\n",
    "\n",
    "print (y)"
   ]
  },
  {
   "cell_type": "code",
   "execution_count": null,
   "id": "d08027a2",
   "metadata": {},
   "outputs": [],
   "source": []
  }
 ],
 "metadata": {
  "kernelspec": {
   "display_name": "Python 3",
   "language": "python",
   "name": "python3"
  },
  "language_info": {
   "codemirror_mode": {
    "name": "ipython",
    "version": 3
   },
   "file_extension": ".py",
   "mimetype": "text/x-python",
   "name": "python",
   "nbconvert_exporter": "python",
   "pygments_lexer": "ipython3",
   "version": "3.8.8"
  }
 },
 "nbformat": 4,
 "nbformat_minor": 5
}

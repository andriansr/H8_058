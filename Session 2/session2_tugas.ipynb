{
 "cells": [
  {
   "cell_type": "code",
   "execution_count": 9,
   "id": "40370d7c",
   "metadata": {},
   "outputs": [
    {
     "name": "stdout",
     "output_type": "stream",
     "text": [
      "masukkan angka : 1\n",
      "ganjil\n"
     ]
    }
   ],
   "source": [
    "angka = int(input(\"masukkan angka : \"))\n",
    "\n",
    "if (angka % 2 == 0) : \n",
    "    print (\"genap\")\n",
    "else :\n",
    "    print (\"ganjil\")"
   ]
  },
  {
   "cell_type": "code",
   "execution_count": 25,
   "id": "f514b16e",
   "metadata": {},
   "outputs": [
    {
     "name": "stdout",
     "output_type": "stream",
     "text": [
      "masukkan angka : 50\n",
      "1\n",
      "2\n",
      "5\n",
      "10\n",
      "25\n"
     ]
    }
   ],
   "source": [
    "a = float(input(\"masukkan angka : \"))\n",
    "\n",
    "b = 1\n",
    "\n",
    "while b < a : \n",
    "    if (a % b == 0) :\n",
    "        print (b)\n",
    "    b = b+1"
   ]
  },
  {
   "cell_type": "code",
   "execution_count": 26,
   "id": "ff6e674c",
   "metadata": {},
   "outputs": [
    {
     "name": "stdout",
     "output_type": "stream",
     "text": [
      "masukkan nilai: 90\n",
      "A\n"
     ]
    }
   ],
   "source": [
    "def hitung_nilai(nilai):\n",
    "    if nilai >= 85:\n",
    "        print(\"A\")\n",
    "    elif nilai >= 80:\n",
    "        print(\"A-\")\n",
    "    elif nilai >= 75:\n",
    "        print(\"B+\")\n",
    "    elif nilai >= 70:\n",
    "        print(\"B\")\n",
    "    elif nilai >= 65:\n",
    "        print(\"B-\")\n",
    "    elif nilai >= 60:\n",
    "        print(\"C+\")\n",
    "    elif nilai >= 55:\n",
    "        print(\"C\")\n",
    "    elif nilai < 55:\n",
    "        print(\"D\")\n",
    "\n",
    "nilai = int(input(\"masukkan nilai: \"))\n",
    "hitung_nilai(nilai)"
   ]
  },
  {
   "cell_type": "code",
   "execution_count": 59,
   "id": "30074a14",
   "metadata": {},
   "outputs": [
    {
     "name": "stdout",
     "output_type": "stream",
     "text": [
      "masukkan angka 1-9:3\n",
      "too low\n"
     ]
    }
   ],
   "source": [
    "import random\n",
    "\n",
    "a = int(random.randrange(1,9))\n",
    "b = int(input(\"masukkan angka 1-9:\" ))\n",
    "\n",
    "if b <= a:\n",
    "    print (\"too low\")\n",
    "elif b >= a:\n",
    "    print (\"too high\")\n",
    "elif b == a:\n",
    "    print (\"you got it!\")"
   ]
  },
  {
   "cell_type": "code",
   "execution_count": null,
   "id": "7dc5585c",
   "metadata": {},
   "outputs": [],
   "source": []
  },
  {
   "cell_type": "markdown",
   "id": "a36ff71d",
   "metadata": {},
   "source": []
  }
 ],
 "metadata": {
  "kernelspec": {
   "display_name": "Python 3",
   "language": "python",
   "name": "python3"
  },
  "language_info": {
   "codemirror_mode": {
    "name": "ipython",
    "version": 3
   },
   "file_extension": ".py",
   "mimetype": "text/x-python",
   "name": "python",
   "nbconvert_exporter": "python",
   "pygments_lexer": "ipython3",
   "version": "3.8.8"
  }
 },
 "nbformat": 4,
 "nbformat_minor": 5
}

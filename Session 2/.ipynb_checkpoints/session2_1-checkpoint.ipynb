{
 "cells": [
  {
   "cell_type": "code",
   "execution_count": 6,
   "id": "ad6537d8",
   "metadata": {},
   "outputs": [
    {
     "name": "stdout",
     "output_type": "stream",
     "text": [
      "true\n"
     ]
    }
   ],
   "source": [
    "a = 0\n",
    "b = 5\n",
    "\n",
    "if a > b :\n",
    "    print (\"false\")\n",
    "    \n",
    "elif a < b :\n",
    "    print (\"true\")\n",
    "    \n",
    "elif a <= b :\n",
    "    print (\"true\")\n",
    "    \n",
    "elif a >= b :\n",
    "    print (\"false\")\n",
    "    \n",
    "elif a == b :\n",
    "    print (\"false\")\n",
    "    \n",
    "elif a != b :\n",
    "    print (\"true\")\n",
    "    "
   ]
  },
  {
   "cell_type": "code",
   "execution_count": 2,
   "id": "8f680a1a",
   "metadata": {},
   "outputs": [
    {
     "name": "stdout",
     "output_type": "stream",
     "text": [
      "Expression was true\n",
      "Executing statement in suite\n",
      "...\n",
      "Done.\n",
      "After conditional\n"
     ]
    }
   ],
   "source": [
    "if \"foo\" in [\"bar\", \"baz\", \"qux\", \"foo\"]:\n",
    "    print(\"Expression was true\")\n",
    "    print(\"Executing statement in suite\")\n",
    "    print(\"...\")\n",
    "    print(\"Done.\")\n",
    "    \n",
    "print(\"After conditional\")"
   ]
  },
  {
   "cell_type": "code",
   "execution_count": 3,
   "id": "3a223dc2",
   "metadata": {},
   "outputs": [
    {
     "name": "stdout",
     "output_type": "stream",
     "text": [
      "outer condition is true\n",
      "between inner conditions\n",
      "inner condition 2\n",
      "end of outer condition\n",
      "after outer condition\n"
     ]
    }
   ],
   "source": [
    "if \"foo\" in [\"foo\", \"bar\", \"baz\"]:\n",
    "    print(\"outer condition is true\")\n",
    "    \n",
    "    if 10 > 20:\n",
    "        print(\"inner condition 1\")\n",
    "    print(\"between inner conditions\")\n",
    "    \n",
    "    if 10 < 20:\n",
    "        print(\"inner condition 2\")\n",
    "    print(\"end of outer condition\")\n",
    "    \n",
    "print(\"after outer condition\")"
   ]
  },
  {
   "cell_type": "code",
   "execution_count": 5,
   "id": "ec440410",
   "metadata": {},
   "outputs": [
    {
     "name": "stdout",
     "output_type": "stream",
     "text": [
      "(first suite)\n",
      "x is small\n"
     ]
    }
   ],
   "source": [
    "x = 20\n",
    "\n",
    "if x < 50:\n",
    "    print(\"(first suite)\")\n",
    "    print(\"x is small\")\n",
    "else:\n",
    "    print(\"(second suite)\")\n",
    "    print(\"x is large\")"
   ]
  },
  {
   "cell_type": "code",
   "execution_count": 6,
   "id": "487497b2",
   "metadata": {},
   "outputs": [
    {
     "name": "stdout",
     "output_type": "stream",
     "text": [
      "(second suite)\n",
      "x is large\n"
     ]
    }
   ],
   "source": [
    "x = 150\n",
    "\n",
    "if x < 50:\n",
    "    print(\"(first suite)\")\n",
    "    print(\"x is small\")\n",
    "else:\n",
    "    print(\"(second suite)\")\n",
    "    print(\"x is large\")"
   ]
  },
  {
   "cell_type": "code",
   "execution_count": 8,
   "id": "b8c8c50f",
   "metadata": {},
   "outputs": [
    {
     "name": "stdout",
     "output_type": "stream",
     "text": [
      "Uangnya ngga cukup\n"
     ]
    }
   ],
   "source": [
    "hargaBuku = 20000\n",
    "hargaMajalah = 5000\n",
    "uang = 2000\n",
    "\n",
    "if (uang > hargaBuku) & (uang > hargaMajalah):\n",
    "    print (\"Beli Buku dan Majalah\")\n",
    "else:\n",
    "    print (\"Uangnya ngga cukup\")"
   ]
  },
  {
   "cell_type": "code",
   "execution_count": 9,
   "id": "9b349b44",
   "metadata": {},
   "outputs": [
    {
     "name": "stdout",
     "output_type": "stream",
     "text": [
      "Uangnya ngga cukup\n"
     ]
    }
   ],
   "source": [
    "hargaBuku = 20000\n",
    "hargaMajalah = 5000\n",
    "uang = 2000\n",
    "\n",
    "if uang > hargaBuku:\n",
    "    print (\"Beli Buku\")\n",
    "\n",
    "elif uang > hargaMajalah:\n",
    "    print (\"Beli Majalah\")\n",
    "\n",
    "else:\n",
    "    print (\"Uangnya ngga cukup\")"
   ]
  },
  {
   "cell_type": "code",
   "execution_count": 11,
   "id": "e743f24d",
   "metadata": {},
   "outputs": [
    {
     "name": "stdout",
     "output_type": "stream",
     "text": [
      "Andrian Siasa Rifqi\n"
     ]
    }
   ],
   "source": [
    "name = \"Andrian\"\n",
    "\n",
    "if name == \"Joe\":\n",
    "    print (\"Hello Joe\")\n",
    "elif name == \"Deon\":\n",
    "    print (\"Hello Deon\")\n",
    "elif name == \"Andrian\":\n",
    "    print (\"Hello Andrian Siasa Rifqi\")\n",
    "elif name == \"Relic\":\n",
    "    print (\"Hello Relic\")\n",
    "else:\n",
    "    print (\"I don't know who you're...!!???\")"
   ]
  },
  {
   "cell_type": "code",
   "execution_count": 12,
   "id": "91ad1bb1",
   "metadata": {},
   "outputs": [
    {
     "name": "stdout",
     "output_type": "stream",
     "text": [
      "foo\n"
     ]
    }
   ],
   "source": [
    "if \"a\" in \"bar\":\n",
    "    print(\"foo\")\n",
    "\n",
    "elif 1 /0:\n",
    "    pirnt(\"this won't happen\")\n",
    "\n",
    "elif var:\n",
    "    print(\"this won't either\")"
   ]
  },
  {
   "cell_type": "code",
   "execution_count": 13,
   "id": "038ac242",
   "metadata": {},
   "outputs": [
    {
     "name": "stdout",
     "output_type": "stream",
     "text": [
      "1\n",
      "2\n",
      "3\n"
     ]
    }
   ],
   "source": [
    "if \"f\" in \"foo\": print(\"1\"); print(\"2\"); print(\"3\")"
   ]
  },
  {
   "cell_type": "code",
   "execution_count": 14,
   "id": "0d285659",
   "metadata": {},
   "outputs": [],
   "source": [
    " if \"z\" in \"foo\": print(\"1\"); print(\"2\"); print(\"3\")"
   ]
  },
  {
   "cell_type": "code",
   "execution_count": 15,
   "id": "56995e59",
   "metadata": {},
   "outputs": [
    {
     "name": "stdout",
     "output_type": "stream",
     "text": [
      "qux\n",
      "quux\n"
     ]
    }
   ],
   "source": [
    "x = 2\n",
    "\n",
    "if x == 1: print(\"foo\"); print(\"bar\"); print(\"baz\")\n",
    "elif x == 2: print(\"qux\"); print(\"quux\")\n",
    "else: print(\"corge\"); print(\"grault\")"
   ]
  },
  {
   "cell_type": "code",
   "execution_count": 16,
   "id": "c83fd55f",
   "metadata": {},
   "outputs": [
    {
     "name": "stdout",
     "output_type": "stream",
     "text": [
      "corge\n",
      "grault\n"
     ]
    }
   ],
   "source": [
    "x = 3\n",
    "\n",
    "if x == 1: print(\"foo\"); print(\"bar\"); print(\"baz\")\n",
    "elif x == 2: print(\"qux\"); print(\"quux\")\n",
    "else: print(\"corge\"); print(\"grault\")"
   ]
  },
  {
   "cell_type": "code",
   "execution_count": 17,
   "id": "bb36fc77",
   "metadata": {},
   "outputs": [
    {
     "name": "stdout",
     "output_type": "stream",
     "text": [
      "corge\n",
      "grault\n"
     ]
    }
   ],
   "source": [
    "x = 3\n",
    "\n",
    "if x == 1:\n",
    "    print (\"foo\")\n",
    "    print (\"bar\")\n",
    "    print (\"baz\")\n",
    "\n",
    "elif x == 2:\n",
    "    print (\"qux\")\n",
    "    print (\"quux\")\n",
    "    \n",
    "else:\n",
    "    print (\"corge\")\n",
    "    print (\"grault\")"
   ]
  },
  {
   "cell_type": "code",
   "execution_count": 18,
   "id": "072a7279",
   "metadata": {},
   "outputs": [
    {
     "name": "stdout",
     "output_type": "stream",
     "text": [
      "let's go to the beach\n"
     ]
    }
   ],
   "source": [
    "raining = False\n",
    "\n",
    "print (\"let's go to the\", \"beach\" if not raining else \"library\")"
   ]
  },
  {
   "cell_type": "code",
   "execution_count": 19,
   "id": "ca6627ac",
   "metadata": {},
   "outputs": [
    {
     "name": "stdout",
     "output_type": "stream",
     "text": [
      "let's go to the library\n"
     ]
    }
   ],
   "source": [
    "raining = True\n",
    "\n",
    "print (\"let's go to the\", \"beach\" if not raining else \"library\")"
   ]
  },
  {
   "cell_type": "code",
   "execution_count": 20,
   "id": "e617c01f",
   "metadata": {},
   "outputs": [
    {
     "data": {
      "text/plain": [
       "'teen'"
      ]
     },
     "execution_count": 20,
     "metadata": {},
     "output_type": "execute_result"
    }
   ],
   "source": [
    "age = 12\n",
    "s = \"teen\" if age < 21 else \" adult\"\n",
    "s"
   ]
  },
  {
   "cell_type": "code",
   "execution_count": 21,
   "id": "bbe71473",
   "metadata": {},
   "outputs": [
    {
     "data": {
      "text/plain": [
       "'no'"
      ]
     },
     "execution_count": 21,
     "metadata": {},
     "output_type": "execute_result"
    }
   ],
   "source": [
    "\"yes\" if (\"qux\" in [\"foo\", \"bar\", \"baz\"]) else \"no\""
   ]
  },
  {
   "cell_type": "code",
   "execution_count": 5,
   "id": "5e60487f",
   "metadata": {},
   "outputs": [
    {
     "name": "stdout",
     "output_type": "stream",
     "text": [
      "2\n"
     ]
    }
   ],
   "source": [
    "a = 1 \n",
    "b = 2 \n",
    "\n",
    "if a > b:\n",
    "    m = a\n",
    "else:\n",
    "    m = b\n",
    "    \n",
    "print (m)"
   ]
  },
  {
   "cell_type": "code",
   "execution_count": 9,
   "id": "97e49b15",
   "metadata": {},
   "outputs": [
    {
     "name": "stdout",
     "output_type": "stream",
     "text": [
      "4\n"
     ]
    }
   ],
   "source": [
    "a = 4\n",
    "b = 2\n",
    "\n",
    "m = a if a > b else b\n",
    "\n",
    "print (m)"
   ]
  },
  {
   "cell_type": "code",
   "execution_count": 11,
   "id": "a79c4207",
   "metadata": {},
   "outputs": [
    {
     "ename": "IndentationError",
     "evalue": "expected an indented block (<ipython-input-11-ee93d3adbb2f>, line 2)",
     "output_type": "error",
     "traceback": [
      "\u001b[1;36m  File \u001b[1;32m\"<ipython-input-11-ee93d3adbb2f>\"\u001b[1;36m, line \u001b[1;32m2\u001b[0m\n\u001b[1;33m    print (\"foo\")\u001b[0m\n\u001b[1;37m    ^\u001b[0m\n\u001b[1;31mIndentationError\u001b[0m\u001b[1;31m:\u001b[0m expected an indented block\n"
     ]
    }
   ],
   "source": [
    "if True:\n",
    "print (\"foo\")"
   ]
  },
  {
   "cell_type": "code",
   "execution_count": 12,
   "id": "a5b2fac9",
   "metadata": {},
   "outputs": [
    {
     "name": "stdout",
     "output_type": "stream",
     "text": [
      "foo\n"
     ]
    }
   ],
   "source": [
    "if True:\n",
    "    pass\n",
    "\n",
    "print (\"foo\")"
   ]
  },
  {
   "cell_type": "code",
   "execution_count": 19,
   "id": "3fdeef59",
   "metadata": {},
   "outputs": [
    {
     "name": "stdout",
     "output_type": "stream",
     "text": [
      "4\n",
      "3\n",
      "2\n",
      "1\n",
      "0\n"
     ]
    }
   ],
   "source": [
    "n = 5\n",
    "\n",
    "while n > 0:\n",
    "    n -= 1\n",
    "    print (n)"
   ]
  },
  {
   "cell_type": "code",
   "execution_count": 17,
   "id": "dccd4193",
   "metadata": {},
   "outputs": [
    {
     "name": "stdout",
     "output_type": "stream",
     "text": [
      "1\n",
      "2\n",
      "3\n",
      "4\n",
      "5\n"
     ]
    }
   ],
   "source": [
    "i = 1\n",
    "\n",
    "while i < 6:\n",
    "    print (i)\n",
    "    i += 1"
   ]
  },
  {
   "cell_type": "code",
   "execution_count": 21,
   "id": "899cb561",
   "metadata": {},
   "outputs": [
    {
     "name": "stdout",
     "output_type": "stream",
     "text": [
      "4\n",
      "3\n",
      "Loop Ended.\n"
     ]
    }
   ],
   "source": [
    "n = 5\n",
    "\n",
    "while n > 0:\n",
    "    n -= 1\n",
    "    if n == 2:\n",
    "        break\n",
    "    print (n)\n",
    "print (\"Loop Ended.\")"
   ]
  },
  {
   "cell_type": "code",
   "execution_count": 22,
   "id": "26d55990",
   "metadata": {},
   "outputs": [
    {
     "name": "stdout",
     "output_type": "stream",
     "text": [
      "4\n",
      "3\n",
      "1\n",
      "0\n",
      "Loop Ended.\n"
     ]
    }
   ],
   "source": [
    "n = 5\n",
    "\n",
    "while n > 0:\n",
    "    n -= 1\n",
    "    if n == 2:\n",
    "        continue\n",
    "    print (n)\n",
    "print (\"Loop Ended.\")"
   ]
  },
  {
   "cell_type": "code",
   "execution_count": 23,
   "id": "f67051ac",
   "metadata": {},
   "outputs": [
    {
     "name": "stdout",
     "output_type": "stream",
     "text": [
      "4\n",
      "3\n",
      "2\n",
      "1\n",
      "0\n",
      "loop ended.\n"
     ]
    }
   ],
   "source": [
    "n = 5\n",
    "\n",
    "while n > 0:\n",
    "    n -= 1\n",
    "    print (n)\n",
    "else:\n",
    "    print (\"loop ended.\")"
   ]
  },
  {
   "cell_type": "code",
   "execution_count": 24,
   "id": "cc4b03a2",
   "metadata": {},
   "outputs": [
    {
     "name": "stdout",
     "output_type": "stream",
     "text": [
      "4\n",
      "3\n",
      "2\n"
     ]
    }
   ],
   "source": [
    "n = 5\n",
    "while n > 0:\n",
    "    n -= 1\n",
    "    print (n)\n",
    "    if n == 2:\n",
    "        break\n",
    "else:\n",
    "    print (\"loop ended.\")"
   ]
  },
  {
   "cell_type": "code",
   "execution_count": 9,
   "id": "872f0dd4",
   "metadata": {},
   "outputs": [],
   "source": [
    "while False:\n",
    "    print (\"foo\")"
   ]
  },
  {
   "cell_type": "code",
   "execution_count": 7,
   "id": "a91dc354",
   "metadata": {},
   "outputs": [
    {
     "name": "stdout",
     "output_type": "stream",
     "text": [
      "Umur : 90\n",
      "Jenis Kelamin [M / F] : m\n",
      "grandfather\n"
     ]
    }
   ],
   "source": [
    "age = int(input(\"Umur : \"))\n",
    "gender = str(input(\"Jenis Kelamin [M / F] : \"))\n",
    "g = gender.upper()\n",
    "\n",
    "if age < 18:\n",
    "    if g == \"M\":\n",
    "        print (\"son\")\n",
    "    else:\n",
    "        if g == \"F\":\n",
    "            print (\"daughter\")\n",
    "\n",
    "elif age >= 18 and age <= 70:\n",
    "    if g == \"M\":\n",
    "        print (\"father\")\n",
    "    else:\n",
    "        if g == \"F\":\n",
    "            print (\"mother\")\n",
    "\n",
    "else:\n",
    "    if age > 70 and g == \"M\":\n",
    "        print (\"grandfather\")\n",
    "    else:\n",
    "        if age > 70 and g == \"F\":\n",
    "            print (\"grandmother\")\n",
    "    "
   ]
  },
  {
   "cell_type": "code",
   "execution_count": 8,
   "id": "e5c2e414",
   "metadata": {},
   "outputs": [
    {
     "name": "stdout",
     "output_type": "stream",
     "text": [
      "foo\n",
      "> baz\n",
      "> qux\n",
      "bar\n",
      "> baz\n",
      "> qux\n"
     ]
    }
   ],
   "source": [
    "a = [\"foo\", \"bar\"]\n",
    "\n",
    "while len(a):\n",
    "    print (a.pop(0))\n",
    "    \n",
    "    b = [\"baz\", \"qux\"]\n",
    "    \n",
    "    while len(b):\n",
    "        print(\">\", b.pop(0))"
   ]
  },
  {
   "cell_type": "code",
   "execution_count": 3,
   "id": "b3111b0e",
   "metadata": {},
   "outputs": [
    {
     "name": "stdout",
     "output_type": "stream",
     "text": [
      "4\n",
      "3\n",
      "2\n",
      "1\n",
      "0\n"
     ]
    }
   ],
   "source": [
    "#one line while loops\n",
    "\n",
    "n= 5\n",
    "\n",
    "while n > 0 : n -= 1; print(n)"
   ]
  },
  {
   "cell_type": "code",
   "execution_count": 28,
   "id": "d68dfd12",
   "metadata": {},
   "outputs": [
    {
     "name": "stdout",
     "output_type": "stream",
     "text": [
      "foo\n",
      "bar\n",
      "baz\n"
     ]
    }
   ],
   "source": [
    "a = [\"foo\", \"bar\", \"baz\"]\n",
    "\n",
    "for i in a:\n",
    "    print (i)"
   ]
  },
  {
   "cell_type": "code",
   "execution_count": 2,
   "id": "309c3d1c",
   "metadata": {},
   "outputs": [
    {
     "name": "stdout",
     "output_type": "stream",
     "text": [
      "foo\n",
      "1\n",
      "bar\n",
      "2\n",
      "baz\n",
      "3\n"
     ]
    }
   ],
   "source": [
    "k = {\"foo\": 1, \"bar\": 2, \"baz\": 3}\n",
    "\n",
    "for d in k:\n",
    "    print(d)\n",
    "    print(k[d])"
   ]
  },
  {
   "cell_type": "code",
   "execution_count": 5,
   "id": "e155d52e",
   "metadata": {},
   "outputs": [
    {
     "name": "stdout",
     "output_type": "stream",
     "text": [
      "1\n",
      "2\n",
      "3\n"
     ]
    }
   ],
   "source": [
    "k = {\"foo\": 1, \"bar\": 2, \"baz\": 3}\n",
    "\n",
    "for d in k.values():\n",
    "    print(d)"
   ]
  },
  {
   "cell_type": "code",
   "execution_count": 6,
   "id": "d137259e",
   "metadata": {},
   "outputs": [
    {
     "name": "stdout",
     "output_type": "stream",
     "text": [
      "foo : 1\n",
      "bar : 2\n",
      "baz : 3\n"
     ]
    }
   ],
   "source": [
    "k = {\"foo\": 1, \"bar\": 2, \"baz\": 3}\n",
    "\n",
    "for d, e in k.items():\n",
    "    print(d , \":\" , e)"
   ]
  },
  {
   "cell_type": "code",
   "execution_count": 2,
   "id": "d4730ddf",
   "metadata": {},
   "outputs": [
    {
     "name": "stdout",
     "output_type": "stream",
     "text": [
      "0\n",
      "1\n",
      "2\n",
      "3\n",
      "4\n"
     ]
    }
   ],
   "source": [
    "for n in (0, 1, 2, 3, 4):\n",
    "    print (n)"
   ]
  },
  {
   "cell_type": "code",
   "execution_count": 3,
   "id": "a1b8e507",
   "metadata": {},
   "outputs": [
    {
     "name": "stdout",
     "output_type": "stream",
     "text": [
      "0\n",
      "1\n",
      "2\n",
      "3\n",
      "4\n"
     ]
    }
   ],
   "source": [
    "x = range(5)\n",
    "\n",
    "for n in x:\n",
    "    print(n)"
   ]
  },
  {
   "cell_type": "code",
   "execution_count": 4,
   "id": "e85a48b1",
   "metadata": {},
   "outputs": [
    {
     "name": "stdout",
     "output_type": "stream",
     "text": [
      "foo\n"
     ]
    }
   ],
   "source": [
    "for i in [\"foo\", \"bar\", \"baz\", \"qux\"]:\n",
    "    if \"b\" in i:\n",
    "        break\n",
    "    print(i)"
   ]
  },
  {
   "cell_type": "code",
   "execution_count": 6,
   "id": "8c9ebcd0",
   "metadata": {},
   "outputs": [
    {
     "name": "stdout",
     "output_type": "stream",
     "text": [
      "foo\n",
      "qux\n"
     ]
    }
   ],
   "source": [
    "for i in (\"foo\", \"bar\", \"baz\", \"qux\"):\n",
    "    if \"b\" in i:\n",
    "        continue\n",
    "    print(i)"
   ]
  },
  {
   "cell_type": "code",
   "execution_count": 7,
   "id": "21a3802c",
   "metadata": {},
   "outputs": [
    {
     "name": "stdout",
     "output_type": "stream",
     "text": [
      "foo\n",
      "bar\n",
      "baz\n",
      "qux\n",
      "Done.\n"
     ]
    }
   ],
   "source": [
    "for i in (\"foo\", \"bar\", \"baz\", \"qux\"):\n",
    "    print(i)\n",
    "else:\n",
    "    print(\"Done.\")"
   ]
  },
  {
   "cell_type": "code",
   "execution_count": 11,
   "id": "fe188250",
   "metadata": {},
   "outputs": [
    {
     "name": "stdout",
     "output_type": "stream",
     "text": [
      "foo\n",
      "bar\n"
     ]
    }
   ],
   "source": [
    "for i in (\"foo\", \"bar\", \"baz\", \"qux\"):\n",
    "    if i == \"baz\":\n",
    "        break\n",
    "    print(i)\n",
    "else:\n",
    "    print(\"Done.\")"
   ]
  },
  {
   "cell_type": "code",
   "execution_count": 2,
   "id": "81fb9aec",
   "metadata": {},
   "outputs": [
    {
     "name": "stdout",
     "output_type": "stream",
     "text": [
      "Ketikan tempratur yang ingin dikonversi, eg. 45F, 120C: 56C\n",
      "Tempraturnya adalah 132 derajat\n"
     ]
    }
   ],
   "source": [
    "temp = input(\"Ketikan tempratur yang ingin dikonversi, eg. 45F, 120C: \")\n",
    "degree = int(temp[:-1])\n",
    "i_convertion = temp[-1]\n",
    "\n",
    "if i_convertion == \"C\":\n",
    "    result = int(round(9 * degree) / 5 + 32)\n",
    "\n",
    "elif i_convertion == \"F\":\n",
    "    result = int(round(degree - 32) * 5 / 9)\n",
    "    \n",
    "else:\n",
    "    print(\"Masukkan input yang benar.\")\n",
    "    \n",
    "print(\"Tempraturnya adalah\" , result , \"derajat\")\n"
   ]
  },
  {
   "cell_type": "code",
   "execution_count": null,
   "id": "ee0860cc",
   "metadata": {},
   "outputs": [
    {
     "name": "stdout",
     "output_type": "stream",
     "text": [
      "Ketikkan karakter:halo\n",
      "halo\n",
      "Ketikkan karakter:halo kaka\n",
      "halo kaka\n",
      "Ketikkan karakter:Kunaoun\n",
      "kunaoun\n"
     ]
    }
   ],
   "source": [
    "while True:\n",
    "    msg = input(\"Ketikkan karakter:\").lower()\n",
    "    print(msg)\n",
    "    if msg == \"stop\":\n",
    "        break"
   ]
  },
  {
   "cell_type": "code",
   "execution_count": null,
   "id": "d3f93e91",
   "metadata": {},
   "outputs": [],
   "source": []
  }
 ],
 "metadata": {
  "kernelspec": {
   "display_name": "Python 3",
   "language": "python",
   "name": "python3"
  },
  "language_info": {
   "codemirror_mode": {
    "name": "ipython",
    "version": 3
   },
   "file_extension": ".py",
   "mimetype": "text/x-python",
   "name": "python",
   "nbconvert_exporter": "python",
   "pygments_lexer": "ipython3",
   "version": "3.8.8"
  }
 },
 "nbformat": 4,
 "nbformat_minor": 5
}
